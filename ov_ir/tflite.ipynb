{
 "cells": [
  {
   "cell_type": "code",
   "execution_count": 4,
   "metadata": {},
   "outputs": [],
   "source": [
    "import openvino as ov\n",
    "\n",
    "core = ov.Core()\n",
    "model = core.read_model(\"gpt2-8bit.tflite\")\n",
    "\n",
    "ov.save_model(model, \"../backend/server/fixture/text_model/openvino_model.xml\")"
   ]
  },
  {
   "cell_type": "code",
   "execution_count": 5,
   "metadata": {},
   "outputs": [
    {
     "data": {
      "text/plain": [
       "('../backend/server/fixture/text_model/tokenizer_config.json',\n",
       " '../backend/server/fixture/text_model/special_tokens_map.json',\n",
       " '../backend/server/fixture/text_model/tokenizer.json')"
      ]
     },
     "execution_count": 5,
     "metadata": {},
     "output_type": "execute_result"
    }
   ],
   "source": [
    "from transformers import GPT2TokenizerFast\n",
    "\n",
    "tokenizer = GPT2TokenizerFast.from_pretrained(\"gpt2\")\n",
    "\n",
    "tokenizer.save_pretrained(\"../backend/server/fixture/text_model/\", legacy_format=False)"
   ]
  },
  {
   "cell_type": "code",
   "execution_count": 6,
   "metadata": {},
   "outputs": [],
   "source": [
    "! cd ../backend/server/fixture/text_model/ && rm tokenizer_config.json special_tokens_map.json"
   ]
  }
 ],
 "metadata": {
  "kernelspec": {
   "display_name": "ml_science",
   "language": "python",
   "name": "python3"
  },
  "language_info": {
   "codemirror_mode": {
    "name": "ipython",
    "version": 3
   },
   "file_extension": ".py",
   "mimetype": "text/x-python",
   "name": "python",
   "nbconvert_exporter": "python",
   "pygments_lexer": "ipython3",
   "version": "3.10.13"
  }
 },
 "nbformat": 4,
 "nbformat_minor": 2
}
